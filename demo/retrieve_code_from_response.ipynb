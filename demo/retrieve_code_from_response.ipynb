{
 "cells": [
  {
   "cell_type": "code",
   "execution_count": 9,
   "id": "3347e0fa-4825-4701-9c91-4b08c75fd56f",
   "metadata": {},
   "outputs": [],
   "source": [
    "import pandas as pd\n",
    "import os\n",
    "from human_eval.data import write_jsonl, read_problems, extract_python"
   ]
  },
  {
   "cell_type": "code",
   "execution_count": 10,
   "id": "4fa3c5f1-2d7a-49c2-85d0-2a4846b900f0",
   "metadata": {},
   "outputs": [
    {
     "data": {
      "text/plain": [
       "0      Here is the complete code:\\n```python\\nimport ...\n",
       "1      Plan:\\n\\n1. Import the necessary libraries for...\n",
       "2      [PYTHON]\\nimport numpy as np\\nfrom skimage imp...\n",
       "3      Here is a possible implementation of the bland...\n",
       "4      Here's the code for the function `combine_colu...\n",
       "                             ...                        \n",
       "565    Here is the complete code for the function `wo...\n",
       "566    Plan:\\n\\n1. Convert the input image to graysca...\n",
       "567    Here is the complete code for the function `wo...\n",
       "568    ```python\\nimport numpy as np\\nimport pandas a...\n",
       "569    Here is the complete code for the function `wo...\n",
       "Name: full_response, Length: 570, dtype: object"
      ]
     },
     "execution_count": 10,
     "metadata": {},
     "output_type": "execute_result"
    }
   ],
   "source": [
    "df = pd.read_json(\"data/samples_codellama.jsonl\", lines=True)\n",
    "df[\"full_response\"]"
   ]
  },
  {
   "cell_type": "code",
   "execution_count": 19,
   "id": "7251bbad-8ae8-42f9-ac0d-a46f01b6d098",
   "metadata": {},
   "outputs": [],
   "source": [
    "directory = \"data/\"\n",
    "\n",
    "collection = []\n",
    "for filename in os.listdir(directory):\n",
    "    if filename.endswith(\"_results.jsonl\"):\n",
    "#        print(filename)\n",
    "        df = pd.read_json(directory + filename, lines=True)\n",
    "        df['model'] = filename.replace(\".jsonl_results.jsonl\", \"\").replace(\"samples_\", \"\")\n",
    "        collection.append(df)\n",
    "\n",
    "df = pd.concat(collection)\n"
   ]
  },
  {
   "cell_type": "code",
   "execution_count": 20,
   "id": "d3e62ac8-4624-4680-821e-693f8eb9588d",
   "metadata": {},
   "outputs": [
    {
     "data": {
      "text/plain": [
       "'\\ncode\\n\\ncode2\\n'"
      ]
     },
     "execution_count": 20,
     "metadata": {},
     "output_type": "execute_result"
    }
   ],
   "source": [
    "test = \"\"\"\n",
    "hallo\n",
    "```\n",
    "code\n",
    "```\n",
    "bla\n",
    "```\n",
    "code2\n",
    "```\n",
    "\"\"\"\n",
    "extract_python(test)"
   ]
  },
  {
   "cell_type": "code",
   "execution_count": 21,
   "id": "30a6fc71-3f83-48f6-b1f7-07fe23cff23d",
   "metadata": {},
   "outputs": [
    {
     "data": {
      "text/html": [
       "<div>\n",
       "<style scoped>\n",
       "    .dataframe tbody tr th:only-of-type {\n",
       "        vertical-align: middle;\n",
       "    }\n",
       "\n",
       "    .dataframe tbody tr th {\n",
       "        vertical-align: top;\n",
       "    }\n",
       "\n",
       "    .dataframe thead th {\n",
       "        text-align: right;\n",
       "    }\n",
       "</style>\n",
       "<table border=\"1\" class=\"dataframe\">\n",
       "  <thead>\n",
       "    <tr style=\"text-align: right;\">\n",
       "      <th></th>\n",
       "      <th>completion</th>\n",
       "      <th>new_completion</th>\n",
       "    </tr>\n",
       "  </thead>\n",
       "  <tbody>\n",
       "    <tr>\n",
       "      <th>1151</th>\n",
       "      <td>Python\\n# Step 1: Import the necessary librari...</td>\n",
       "      <td>\\n# Step 1: Import the necessary libraries\\n# ...</td>\n",
       "    </tr>\n",
       "    <tr>\n",
       "      <th>1153</th>\n",
       "      <td>Python\\n# Plan:\\n# 1. Import necessary librari...</td>\n",
       "      <td>\\n# Plan:\\n# 1. Import necessary libraries (Op...</td>\n",
       "    </tr>\n",
       "    <tr>\n",
       "      <th>1160</th>\n",
       "      <td>Python\\n# Step-by-step plan:\\n# 1. Import nece...</td>\n",
       "      <td>\\n# Step-by-step plan:\\n# 1. Import necessary ...</td>\n",
       "    </tr>\n",
       "    <tr>\n",
       "      <th>1168</th>\n",
       "      <td>Python\\n# Step 1: Import necessary libraries (...</td>\n",
       "      <td>\\n# Step 1: Import necessary libraries (numpy ...</td>\n",
       "    </tr>\n",
       "    <tr>\n",
       "      <th>1174</th>\n",
       "      <td>Python\\n# Step 1: Import necessary libraries\\n...</td>\n",
       "      <td>\\n# Step 1: Import necessary libraries\\n# Step...</td>\n",
       "    </tr>\n",
       "    <tr>\n",
       "      <th>...</th>\n",
       "      <td>...</td>\n",
       "      <td>...</td>\n",
       "    </tr>\n",
       "    <tr>\n",
       "      <th>10240</th>\n",
       "      <td>Python\\n# Step-by-step plan:\\n# 1. Import nece...</td>\n",
       "      <td>\\n# Step-by-step plan:\\n# 1. Import necessary ...</td>\n",
       "    </tr>\n",
       "    <tr>\n",
       "      <th>10246</th>\n",
       "      <td>Python\\n# Step 1: Import necessary libraries (...</td>\n",
       "      <td>\\n# Step 1: Import necessary libraries (numpy ...</td>\n",
       "    </tr>\n",
       "    <tr>\n",
       "      <th>10248</th>\n",
       "      <td>Python\\n# Step 1: Import necessary libraries\\n...</td>\n",
       "      <td>\\n# Step 1: Import necessary libraries\\n# Step...</td>\n",
       "    </tr>\n",
       "    <tr>\n",
       "      <th>10250</th>\n",
       "      <td>Python\\n# Step 1: Import necessary libraries\\n...</td>\n",
       "      <td>\\n# Step 1: Import necessary libraries\\n# Step...</td>\n",
       "    </tr>\n",
       "    <tr>\n",
       "      <th>10253</th>\n",
       "      <td>Python\\n# Step-by-step plan:\\n# 1. Import nece...</td>\n",
       "      <td>\\n# Step-by-step plan:\\n# 1. Import necessary ...</td>\n",
       "    </tr>\n",
       "  </tbody>\n",
       "</table>\n",
       "<p>407 rows × 2 columns</p>\n",
       "</div>"
      ],
      "text/plain": [
       "                                              completion  \\\n",
       "1151   Python\\n# Step 1: Import the necessary librari...   \n",
       "1153   Python\\n# Plan:\\n# 1. Import necessary librari...   \n",
       "1160   Python\\n# Step-by-step plan:\\n# 1. Import nece...   \n",
       "1168   Python\\n# Step 1: Import necessary libraries (...   \n",
       "1174   Python\\n# Step 1: Import necessary libraries\\n...   \n",
       "...                                                  ...   \n",
       "10240  Python\\n# Step-by-step plan:\\n# 1. Import nece...   \n",
       "10246  Python\\n# Step 1: Import necessary libraries (...   \n",
       "10248  Python\\n# Step 1: Import necessary libraries\\n...   \n",
       "10250  Python\\n# Step 1: Import necessary libraries\\n...   \n",
       "10253  Python\\n# Step-by-step plan:\\n# 1. Import nece...   \n",
       "\n",
       "                                          new_completion  \n",
       "1151   \\n# Step 1: Import the necessary libraries\\n# ...  \n",
       "1153   \\n# Plan:\\n# 1. Import necessary libraries (Op...  \n",
       "1160   \\n# Step-by-step plan:\\n# 1. Import necessary ...  \n",
       "1168   \\n# Step 1: Import necessary libraries (numpy ...  \n",
       "1174   \\n# Step 1: Import necessary libraries\\n# Step...  \n",
       "...                                                  ...  \n",
       "10240  \\n# Step-by-step plan:\\n# 1. Import necessary ...  \n",
       "10246  \\n# Step 1: Import necessary libraries (numpy ...  \n",
       "10248  \\n# Step 1: Import necessary libraries\\n# Step...  \n",
       "10250  \\n# Step 1: Import necessary libraries\\n# Step...  \n",
       "10253  \\n# Step-by-step plan:\\n# 1. Import necessary ...  \n",
       "\n",
       "[407 rows x 2 columns]"
      ]
     },
     "execution_count": 21,
     "metadata": {},
     "output_type": "execute_result"
    }
   ],
   "source": [
    "import numpy as np\n",
    "test_df = df.copy().reset_index()\n",
    "test_df[\"new_completion\"] = test_df[\"full_response\"].astype(str).apply(extract_python)\n",
    "test_df = test_df[(np.where(test_df[\"completion\"] != test_df[\"new_completion\"], True, False))]\n",
    "test_df.loc[:, (\"completion\", \"new_completion\")]"
   ]
  },
  {
   "cell_type": "code",
   "execution_count": 22,
   "id": "adbd273b-e041-4532-b56a-0d6c61691ef8",
   "metadata": {},
   "outputs": [
    {
     "name": "stdout",
     "output_type": "stream",
     "text": [
      "samples_llama3-70b-instruct-q4_0 is different in 64 entries\n",
      "samples_command-r-plus-104b-q4_0 is different in 1 entries\n",
      "samples_llama3-8b-instruct-fp16 is different in 248 entries\n",
      "samples_llama3-70b-instruct-q8_0 is different in 94 entries\n"
     ]
    }
   ],
   "source": [
    "# Function-mapping to extract python code from full_response\n",
    "tmp_dir = \"tmp_data/\"\n",
    "if not os.path.exists(tmp_dir):\n",
    "    os.mkdir(tmp_dir)\n",
    "\n",
    "df[\"completion\"] = df[\"full_response\"].astype(str).apply(extract_python)\n",
    "grouped = df.groupby(\"model\")\n",
    "\n",
    "for name, group in grouped:\n",
    "    records = group.drop(\"model\", axis=1).to_dict(\"records\")\n",
    "    write_jsonl(f\"{tmp_dir}/samples_{name}_results.jsonl\", records)\n",
    "\n",
    "# Testing code after \n",
    "for filename in os.listdir(\"data\"):\n",
    "    if filename.endswith(\"results.jsonl\"):\n",
    "        model_id = filename.split(\".jsonl\")[0]\n",
    "        df_orig = pd.read_json(directory+filename, lines=True)\n",
    "        df_new = pd.read_json(f\"{tmp_dir}{model_id}_results.jsonl\", lines=True)\n",
    "        if not df_orig.equals(df_new):\n",
    "            # checks inequalities\n",
    "            num_diff = np.size(np.where(~np.all((df_orig == df_new).to_numpy(), axis=1)))\n",
    "            print(f\"{model_id} is different in {num_diff} entries\")"
   ]
  }
 ],
 "metadata": {
  "kernelspec": {
   "display_name": "Python 3 (ipykernel)",
   "language": "python",
   "name": "python3"
  },
  "language_info": {
   "codemirror_mode": {
    "name": "ipython",
    "version": 3
   },
   "file_extension": ".py",
   "mimetype": "text/x-python",
   "name": "python",
   "nbconvert_exporter": "python",
   "pygments_lexer": "ipython3",
   "version": "3.11.7"
  }
 },
 "nbformat": 4,
 "nbformat_minor": 5
}
