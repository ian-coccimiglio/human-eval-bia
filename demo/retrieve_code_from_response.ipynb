{
 "cells": [
  {
   "cell_type": "code",
   "execution_count": 18,
   "id": "3347e0fa-4825-4701-9c91-4b08c75fd56f",
   "metadata": {},
   "outputs": [],
   "source": [
    "import numpy as np\n",
    "import pandas as pd\n",
    "import os\n",
    "from human_eval.data import write_jsonl, read_problems, extract_python"
   ]
  },
  {
   "cell_type": "code",
   "execution_count": 19,
   "id": "4fa3c5f1-2d7a-49c2-85d0-2a4846b900f0",
   "metadata": {},
   "outputs": [
    {
     "data": {
      "text/plain": [
       "0      Here is the complete code:\\n```python\\nimport ...\n",
       "1      Plan:\\n\\n1. Import the necessary libraries for...\n",
       "2      [PYTHON]\\nimport numpy as np\\nfrom skimage imp...\n",
       "3      Here is a possible implementation of the bland...\n",
       "4      Here's the code for the function `combine_colu...\n",
       "                             ...                        \n",
       "565    Here is the complete code for the function `wo...\n",
       "566    Plan:\\n\\n1. Convert the input image to graysca...\n",
       "567    Here is the complete code for the function `wo...\n",
       "568    ```python\\nimport numpy as np\\nimport pandas a...\n",
       "569    Here is the complete code for the function `wo...\n",
       "Name: full_response, Length: 570, dtype: object"
      ]
     },
     "execution_count": 19,
     "metadata": {},
     "output_type": "execute_result"
    }
   ],
   "source": [
    "df = pd.read_json(\"data/samples_codellama.jsonl\", lines=True)\n",
    "df[\"full_response\"]"
   ]
  },
  {
   "cell_type": "code",
   "execution_count": 20,
   "id": "7251bbad-8ae8-42f9-ac0d-a46f01b6d098",
   "metadata": {},
   "outputs": [],
   "source": [
    "directory = \"data/\"\n",
    "\n",
    "collection = []\n",
    "for filename in os.listdir(directory):\n",
    "    if filename.endswith(\"_results.jsonl\"):\n",
    "#        print(filename)\n",
    "        df = pd.read_json(directory + filename, lines=True)\n",
    "        df['model'] = filename.replace(\".jsonl_results.jsonl\", \"\").replace(\"samples_\", \"\")\n",
    "        collection.append(df)\n",
    "\n",
    "df = pd.concat(collection)\n"
   ]
  },
  {
   "cell_type": "code",
   "execution_count": 21,
   "id": "d3e62ac8-4624-4680-821e-693f8eb9588d",
   "metadata": {},
   "outputs": [
    {
     "data": {
      "text/plain": [
       "'\\ncode\\n\\ncode2\\n'"
      ]
     },
     "execution_count": 21,
     "metadata": {},
     "output_type": "execute_result"
    }
   ],
   "source": [
    "test = \"\"\"\n",
    "hallo\n",
    "```\n",
    "code\n",
    "```\n",
    "bla\n",
    "```\n",
    "code2\n",
    "```\n",
    "\"\"\"\n",
    "extract_python(test)"
   ]
  },
  {
   "cell_type": "code",
   "execution_count": 23,
   "id": "adbd273b-e041-4532-b56a-0d6c61691ef8",
   "metadata": {},
   "outputs": [
    {
     "name": "stdout",
     "output_type": "stream",
     "text": [
      "samples_llama3-70b-instruct-q4_0 is different in 64 entries\n",
      "samples_command-r-plus-104b-q4_0 is different in 1 entries\n",
      "samples_llama3-8b-instruct-fp16 is different in 248 entries\n",
      "samples_llama3-70b-instruct-q8_0 is different in 94 entries\n"
     ]
    }
   ],
   "source": [
    "# Function-mapping to extract python code from full_response\n",
    "tmp_dir = \"tmp_data/\"\n",
    "if not os.path.exists(tmp_dir):\n",
    "    os.mkdir(tmp_dir)\n",
    "\n",
    "df[\"completion\"] = df[\"full_response\"].astype(str).apply(extract_python)\n",
    "grouped = df.groupby(\"model\")\n",
    "\n",
    "for name, group in grouped:\n",
    "    records = group.drop(\"model\", axis=1).to_dict(\"records\")\n",
    "    write_jsonl(f\"{tmp_dir}/samples_{name}.jsonl_results.jsonl\", records)\n",
    "\n",
    "# Testing code after \n",
    "for filename in os.listdir(\"data\"):\n",
    "    if filename.endswith(\"results.jsonl\"):\n",
    "        model_id = filename.split(\".jsonl\")[0]\n",
    "        df_orig = pd.read_json(directory+filename, lines=True)\n",
    "        df_new = pd.read_json(f\"{tmp_dir}{model_id}.jsonl_results.jsonl\", lines=True)\n",
    "        if not df_orig.equals(df_new):\n",
    "            # checks inequalities\n",
    "            num_diff = np.size(np.where(~np.all((df_orig == df_new).to_numpy(), axis=1)))\n",
    "            print(f\"{model_id} is different in {num_diff} entries\")"
   ]
  }
 ],
 "metadata": {
  "kernelspec": {
   "display_name": "Python [conda env:heb]",
   "language": "python",
   "name": "conda-env-heb-py"
  },
  "language_info": {
   "codemirror_mode": {
    "name": "ipython",
    "version": 3
   },
   "file_extension": ".py",
   "mimetype": "text/x-python",
   "name": "python",
   "nbconvert_exporter": "python",
   "pygments_lexer": "ipython3",
   "version": "3.10.14"
  }
 },
 "nbformat": 4,
 "nbformat_minor": 5
}
